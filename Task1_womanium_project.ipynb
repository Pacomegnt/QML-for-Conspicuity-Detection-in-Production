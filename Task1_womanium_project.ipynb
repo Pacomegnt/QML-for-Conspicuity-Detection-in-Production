{
  "nbformat": 4,
  "nbformat_minor": 0,
  "metadata": {
    "colab": {
      "provenance": []
    },
    "kernelspec": {
      "name": "python3",
      "display_name": "Python 3"
    },
    "language_info": {
      "name": "python"
    }
  },
  "cells": [
    {
      "cell_type": "markdown",
      "source": [
        "### **Task:** Familiarize yourself with Pennylane,Document your progress and share your learnings as you follow these Pennylane tutorials. The recommended tutorials are: the codebooks from the sections “Introduction to Quantum Computing”, “Single-Qubit Gates” and “Circuits with Many Qubits”.\n"
      ],
      "metadata": {
        "id": "WPzYYpspKoPu"
      }
    },
    {
      "cell_type": "markdown",
      "source": [
        "**Section1: Introduction to Quantum computing**\n",
        "\n",
        "---\n",
        "\n",
        "This section introduces us to the basics of quantum computing, including fundamental concepts like qubits, superposition, quantum gates, quantum circuits and measurements.\n",
        "\n",
        "From this tutorial, we learnt about what a qubit is, how to mathematically describe a qubit state, how operations are mathematically applied on qubits, What it means for a state to be normalized, the relationship between amplitude and measurment outcome probabilities, how to construct a quantum circuit in Pennylane, how to represent quantum operations using unitary matrices and also define and calculate the depth and width of a quantum circuit.\n",
        "\n",
        "With my teammate, we deepen our understanding by doing the codercise, change some few parameters to understand better and discuss all along the readings and code exercises.\n",
        "\n",
        "Globally, quantum computing is all about manipulating qubits to solve problems.\n",
        "\n",
        "\n",
        "\n"
      ],
      "metadata": {
        "id": "g4QnuUeiLRQa"
      }
    },
    {
      "cell_type": "code",
      "source": [
        "# coding example\n"
      ],
      "metadata": {
        "id": "vcRUOQMXVB5U"
      },
      "execution_count": null,
      "outputs": []
    },
    {
      "cell_type": "markdown",
      "source": [
        "**Section2: Single qubit gates**\n",
        "\n",
        "---\n",
        "\n",
        "This section teaches us about the operations that can be applied to a single qubit, such as the Pauli gates (X,Y,Z), the hadamard gate (H) and phase shifts gates. From this tutorial, we are able to describe an operation and explain its working principle by applying it to the basis state.\n",
        "\n",
        "for example: The hadamard gate (H)\n",
        "\n",
        "The action of this operation on the basis state is:\n",
        "\n",
        "$$H|0>=\\frac{|0>+|1>}{\\sqrt{2}}=|+>$$\n",
        "\n",
        "$$H|1>=\\frac{|0>-|1>}{\\sqrt{2}}=|->$$\n",
        "\n",
        "So, applying this operation consist of changing the basis states from {|0>, |1>} to {|+>, |->}."
      ],
      "metadata": {
        "id": "0ErmlLOCUM4r"
      }
    },
    {
      "cell_type": "code",
      "execution_count": null,
      "metadata": {
        "id": "sl-UenXGR7Hf"
      },
      "outputs": [],
      "source": [
        "#coding example"
      ]
    },
    {
      "cell_type": "markdown",
      "source": [
        "**Section3: Circuit with many qubits**\n",
        "\n",
        "---\n",
        "\n",
        "This section expands our knowledge to multi-qubits systems, entanglement and more complex circuits.\n",
        "\n"
      ],
      "metadata": {
        "id": "JZfBSaPNKnId"
      }
    },
    {
      "cell_type": "code",
      "source": [],
      "metadata": {
        "id": "-SQBLOc9UdF7"
      },
      "execution_count": null,
      "outputs": []
    }
  ]
}